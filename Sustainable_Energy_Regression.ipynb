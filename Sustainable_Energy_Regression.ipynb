{
 "cells": [
  {
   "cell_type": "code",
   "execution_count": 2,
   "metadata": {},
   "outputs": [],
   "source": [
    "# Import required libraries and dependencies\n",
    "import pandas as pd"
   ]
  },
  {
   "cell_type": "code",
   "execution_count": null,
   "metadata": {},
   "outputs": [],
   "source": [
    "# Load the data into a Pandas DataFrame\n",
    "df_energy = pd.read_csv(\n",
    "    \"Resources/global-data-on-sustainable-energy (1).csv\")"
   ]
  },
  {
   "cell_type": "code",
   "execution_count": null,
   "metadata": {},
   "outputs": [],
   "source": [
    "df_energy.head()"
   ]
  },
  {
   "cell_type": "markdown",
   "metadata": {},
   "source": [
    "### Clean Data and Rename some Columns"
   ]
  },
  {
   "cell_type": "code",
   "execution_count": null,
   "metadata": {},
   "outputs": [],
   "source": [
    "# Remove commas from the 'Land' column\n",
    "df_energy['Land Area(Km2)'] = df_energy['Land Area(Km2)'].str.replace(',', '').astype(float)"
   ]
  },
  {
   "cell_type": "code",
   "execution_count": null,
   "metadata": {},
   "outputs": [],
   "source": [
    "df_energy.rename(columns={'Entity': 'Country', 'Density\\n(P/Km2)': 'Population Density', 'Land Area(Km2)': 'Land'}, inplace=True)"
   ]
  },
  {
   "cell_type": "code",
   "execution_count": null,
   "metadata": {},
   "outputs": [],
   "source": [
    "df_energy.info()"
   ]
  },
  {
   "cell_type": "code",
   "execution_count": null,
   "metadata": {},
   "outputs": [],
   "source": []
  },
  {
   "cell_type": "code",
   "execution_count": null,
   "metadata": {},
   "outputs": [],
   "source": [
    "df_energy_2000 = df_energy[df_energy[\"Year\"] == 2000]\n",
    "df_energy_2020 = df_energy[df_energy[\"Year\"] == 2020]"
   ]
  },
  {
   "cell_type": "code",
   "execution_count": null,
   "metadata": {},
   "outputs": [],
   "source": [
    "# Load the data into a Pandas DataFrame\n",
    "df_energy_data = pd.read_csv(\n",
    "    \"Resources/global-data-on-sustainable-energy (1).csv\",\n",
    "    index_col=\"Entity\")\n",
    "\n",
    "# Display sample data\n",
    "df_energy_data.head(10)"
   ]
  },
  {
   "cell_type": "code",
   "execution_count": null,
   "metadata": {},
   "outputs": [],
   "source": [
    "# Generate summary statistics\n",
    "df_energy_data.describe()"
   ]
  },
  {
   "cell_type": "markdown",
   "metadata": {},
   "source": [
    "Check for Nulls on the columns that are from interest"
   ]
  },
  {
   "cell_type": "code",
   "execution_count": null,
   "metadata": {},
   "outputs": [],
   "source": [
    "print(df_energy_data[\"Electricity from fossil fuels (TWh)\"].isnull().sum())\n",
    "print(df_energy_data[\"Electricity from nuclear (TWh)\"].isnull().sum())\n",
    "print(df_energy_data[\"Electricity from renewables (TWh)\"].isnull().sum())\n"
   ]
  },
  {
   "cell_type": "markdown",
   "metadata": {},
   "source": [
    "Drop Nulls"
   ]
  },
  {
   "cell_type": "code",
   "execution_count": null,
   "metadata": {},
   "outputs": [],
   "source": [
    "columns_to_clean = [\"Electricity from fossil fuels (TWh)\", \"Electricity from nuclear (TWh)\",\"Electricity from renewables (TWh)\"]\n",
    "df_energy_data_cleaned = df_energy_data.dropna(subset=columns_to_clean)"
   ]
  },
  {
   "cell_type": "markdown",
   "metadata": {},
   "source": [
    "Cleaning columns for the new Dataframes for the years 2000 and 2020"
   ]
  },
  {
   "cell_type": "code",
   "execution_count": null,
   "metadata": {},
   "outputs": [],
   "source": [
    "df_energy_data_2000_cleaned = df_energy_2000.dropna(subset=columns_to_clean)\n",
    "df_energy_data_2020_cleaned = df_energy_2020.dropna(subset=columns_to_clean)"
   ]
  },
  {
   "cell_type": "markdown",
   "metadata": {},
   "source": [
    "Check nulls were dropped"
   ]
  },
  {
   "cell_type": "code",
   "execution_count": null,
   "metadata": {},
   "outputs": [],
   "source": [
    "print(df_energy_data_cleaned[\"Electricity from fossil fuels (TWh)\"].isnull().sum())\n",
    "print(df_energy_data_cleaned[\"Electricity from nuclear (TWh)\"].isnull().sum())\n",
    "print(df_energy_data_cleaned[\"Electricity from renewables (TWh)\"].isnull().sum())"
   ]
  },
  {
   "cell_type": "markdown",
   "metadata": {},
   "source": [
    "# Plot your data to see what's in your DataFrame\n",
    "df_energy_data.hvplot.line(\n",
    "    width=800,\n",
    "    height=400,\n",
    "    rot=90\n",
    ")"
   ]
  },
  {
   "attachments": {},
   "cell_type": "markdown",
   "metadata": {},
   "source": [
    "---"
   ]
  },
  {
   "attachments": {},
   "cell_type": "markdown",
   "metadata": {},
   "source": [
    "### Prepare the Data for Year 2000"
   ]
  },
  {
   "cell_type": "code",
   "execution_count": null,
   "metadata": {},
   "outputs": [],
   "source": [
    "# Use the `StandardScaler()` module from scikit-learn to normalize the data from the CSV file\n",
    "df_energy_data_2000_scaled = StandardScaler().fit_transform(df_energy_data_2000_cleaned[[\"Electricity from fossil fuels (TWh)\", \"Electricity from nuclear (TWh)\", \n",
    "                                                                        \"Electricity from renewables (TWh)\"]])\n",
    "                                                                        # Create a DataFrame with the scaled data\n",
    "df_energy_data_2000_scaled = pd.DataFrame(df_energy_data_2000_scaled, columns=[\"Electricity from fossil fuels (TWh)\", \"Electricity from nuclear (TWh)\", \"Electricity from renewables (TWh)\" ])\n",
    "\n",
    "# Copy the crypto names from the original data\n",
    "df_energy_data_2000_scaled[\"Entity\"] = df_energy_data_2000_cleaned.index\n",
    "\n",
    "# Set the coinid column as index\n",
    "df_energy_data_2000_scaled = df_energy_data_2000_scaled.set_index(\"Entity\")\n",
    "\n",
    "# Display sample data\n",
    "df_energy_data_2000_scaled.head()"
   ]
  },
  {
   "attachments": {},
   "cell_type": "markdown",
   "metadata": {},
   "source": [
    "---"
   ]
  },
  {
   "attachments": {},
   "cell_type": "markdown",
   "metadata": {},
   "source": [
    "### Find the Best Value for k Using the Original Data."
   ]
  },
  {
   "cell_type": "code",
   "execution_count": null,
   "metadata": {},
   "outputs": [],
   "source": [
    "# Create a list with the number of k-values from 1 to 11\n",
    "k = list(range(1, 11))\n",
    "\n",
    "# Create an empty list to store the inertia values\n",
    "inertia = []\n",
    "\n",
    "# Create a for loop to compute the inertia with each possible value of k\n",
    "# Inside the loop:\n",
    "# 1. Create a KMeans model using the loop counter for the n_clusters\n",
    "# 2. Fit the model to the data using `df_market_data_scaled`\n",
    "# 3. Append the model.inertia_ to the inertia list\n",
    "for i in k:\n",
    "    k_model = KMeans(n_clusters=i, random_state=1)\n",
    "    k_model.fit(df_energy_data_2000_scaled)\n",
    "    inertia.append(k_model.inertia_)"
   ]
  },
  {
   "cell_type": "code",
   "execution_count": null,
   "metadata": {},
   "outputs": [],
   "source": [
    "# Create a dictionary with the data to plot the Elbow curve\n",
    "elbow_data = {\"k\": k, \"inertia\": inertia}\n",
    "\n",
    "# Create a DataFrame with the data to plot the Elbow curve\n",
    "df_elbow = pd.DataFrame(elbow_data)\n",
    "\n",
    "# Plot a line chart with all the inertia values computed with \n",
    "# the different values of k to visually identify the optimal value for k.\n",
    "df_elbow.hvplot.line(\n",
    "    x=\"k\", \n",
    "    y=\"inertia\", \n",
    "    title=\"Elbow Curve\", \n",
    "    xticks=k\n",
    ")"
   ]
  },
  {
   "attachments": {},
   "cell_type": "markdown",
   "metadata": {},
   "source": [
    "#### Answer the following question: \n",
    "\n",
    "**Question:** What is the best value for `k`?\n",
    "\n",
    "**Answer:** "
   ]
  },
  {
   "attachments": {},
   "cell_type": "markdown",
   "metadata": {},
   "source": [
    "According  to the elbow method, the best value for K is 3."
   ]
  },
  {
   "attachments": {},
   "cell_type": "markdown",
   "metadata": {},
   "source": [
    "### Cluster Cryptocurrencies with K-means Using the Original Data"
   ]
  },
  {
   "cell_type": "code",
   "execution_count": null,
   "metadata": {},
   "outputs": [],
   "source": [
    "# Initialise the K-Means model using the best value for k\n",
    "model = KMeans(n_clusters=3)\n",
    "\n",
    "# Fit the K-Means model using the scaled data\n",
    "model.fit(df_energy_data_2000_scaled)\n",
    "\n",
    "# Predict the clusters to group the cryptocurrencies using the scaled data\n",
    "energy_clusters = model.predict(df_energy_data_2000_scaled)\n",
    "\n",
    "# Print the resulting array of cluster values.\n",
    "print(energy_clusters)"
   ]
  },
  {
   "cell_type": "code",
   "execution_count": null,
   "metadata": {},
   "outputs": [],
   "source": [
    "# Create a copy of the DataFrame\n",
    "df_energy_data_2000_scaled_predictions = df_energy_data_2000_scaled.copy()\n",
    "\n",
    "# Add a new column to the DataFrame with the predicted clusters\n",
    "df_energy_data_2000_scaled_predictions[\"EnergyCluster\"] = energy_clusters\n",
    "\n",
    "# Display sample data\n",
    "df_energy_data_2000_scaled_predictions.head()"
   ]
  },
  {
   "cell_type": "code",
   "execution_count": null,
   "metadata": {},
   "outputs": [],
   "source": [
    "# Create a scatter plot using hvPlot by setting \n",
    "# `x=\"\"` and `y=\"\"`. \n",
    "# Colour the graph points with the labels found using K-Means and \n",
    "# add the Country name in the `hover_cols` parameter to identify \n",
    "# the Country represented by each data point.\n",
    "df_energy_data_2000_scaled_predictions.hvplot.scatter(\n",
    "    x=\"Electricity from fossil fuels (TWh)\",\n",
    "    y=\"Electricity from renewables (TWh)\",\n",
    "    hover_cols=\"Entity\",\n",
    "    by=\"EnergyCluster\"\n",
    ")"
   ]
  },
  {
   "cell_type": "code",
   "execution_count": null,
   "metadata": {},
   "outputs": [],
   "source": [
    "# Create a scatter plot using hvPlot by setting \n",
    "# `x=\"\"` and `y=\"\"`. \n",
    "# Colour the graph points with the labels found using K-Means and \n",
    "# add the Country name in the `hover_cols` parameter to identify \n",
    "# the Country represented by each data point.\n",
    "df_energy_data_2000_scaled_predictions.hvplot.scatter(\n",
    "    x=\"Electricity from nuclear (TWh)\",\n",
    "    y=\"Electricity from renewables (TWh)\",\n",
    "    hover_cols=\"Entity\",\n",
    "    by=\"EnergyCluster\"\n",
    ")"
   ]
  },
  {
   "cell_type": "markdown",
   "metadata": {},
   "source": [
    "### Prepare the Data for Year 2020"
   ]
  },
  {
   "cell_type": "code",
   "execution_count": null,
   "metadata": {},
   "outputs": [],
   "source": [
    "# Use the `StandardScaler()` module from scikit-learn to normalize the data from the CSV file\n",
    "df_energy_data_2020_scaled = StandardScaler().fit_transform(df_energy_data_2020_cleaned[[\"Electricity from fossil fuels (TWh)\", \"Electricity from nuclear (TWh)\", \n",
    "                                                                        \"Electricity from renewables (TWh)\"]])\n",
    "                                                                        # Create a DataFrame with the scaled data\n",
    "df_energy_data_2020_scaled = pd.DataFrame(df_energy_data_2020_scaled, columns=[\"Electricity from fossil fuels (TWh)\", \"Electricity from nuclear (TWh)\", \"Electricity from renewables (TWh)\" ])\n",
    "\n",
    "# Copy the crypto names from the original data\n",
    "df_energy_data_2020_scaled[\"Entity\"] = df_energy_data_2020_cleaned.index\n",
    "\n",
    "# Set the coinid column as index\n",
    "df_energy_data_2020_scaled = df_energy_data_2020_scaled.set_index(\"Entity\")\n",
    "\n",
    "# Display sample data\n",
    "df_energy_data_2020_scaled.head()"
   ]
  },
  {
   "cell_type": "code",
   "execution_count": null,
   "metadata": {},
   "outputs": [],
   "source": [
    "# Create a list with the number of k-values from 1 to 11\n",
    "k = list(range(1, 11))\n",
    "\n",
    "# Create an empty list to store the inertia values\n",
    "inertia = []\n",
    "\n",
    "# Create a for loop to compute the inertia with each possible value of k\n",
    "# Inside the loop:\n",
    "# 1. Create a KMeans model using the loop counter for the n_clusters\n",
    "# 2. Fit the model to the data using `df_market_data_scaled`\n",
    "# 3. Append the model.inertia_ to the inertia list\n",
    "for i in k:\n",
    "    k_model = KMeans(n_clusters=i, random_state=1)\n",
    "    k_model.fit(df_energy_data_2020_scaled)\n",
    "    inertia.append(k_model.inertia_)"
   ]
  },
  {
   "cell_type": "code",
   "execution_count": null,
   "metadata": {},
   "outputs": [],
   "source": [
    "# Create a dictionary with the data to plot the Elbow curve\n",
    "elbow_data = {\"k\": k, \"inertia\": inertia}\n",
    "\n",
    "# Create a DataFrame with the data to plot the Elbow curve\n",
    "df_elbow = pd.DataFrame(elbow_data)\n",
    "\n",
    "# Plot a line chart with all the inertia values computed with \n",
    "# the different values of k to visually identify the optimal value for k.\n",
    "df_elbow.hvplot.line(\n",
    "    x=\"k\", \n",
    "    y=\"inertia\", \n",
    "    title=\"Elbow Curve\", \n",
    "    xticks=k\n",
    ")"
   ]
  },
  {
   "cell_type": "code",
   "execution_count": null,
   "metadata": {},
   "outputs": [],
   "source": [
    "# Initialise the K-Means model using the best value for k\n",
    "model = KMeans(n_clusters=3)\n",
    "\n",
    "# Fit the K-Means model using the scaled data\n",
    "model.fit(df_energy_data_2020_scaled)\n",
    "\n",
    "# Predict the clusters to group the cryptocurrencies using the scaled data\n",
    "energy_clusters = model.predict(df_energy_data_2020_scaled)\n",
    "\n",
    "# Print the resulting array of cluster values.\n",
    "print(energy_clusters)"
   ]
  },
  {
   "cell_type": "code",
   "execution_count": null,
   "metadata": {},
   "outputs": [],
   "source": [
    "# Create a copy of the DataFrame\n",
    "df_energy_data_2020_scaled_predictions = df_energy_data_2020_scaled.copy()\n",
    "\n",
    "# Add a new column to the DataFrame with the predicted clusters\n",
    "df_energy_data_2020_scaled_predictions[\"EnergyCluster\"] = energy_clusters\n",
    "\n",
    "# Display sample data\n",
    "df_energy_data_2020_scaled_predictions.head()"
   ]
  },
  {
   "cell_type": "code",
   "execution_count": null,
   "metadata": {},
   "outputs": [],
   "source": [
    "# Create a scatter plot using hvPlot by setting \n",
    "# `x=\"\"` and `y=\"\"`. \n",
    "# Colour the graph points with the labels found using K-Means and \n",
    "# add the Country name in the `hover_cols` parameter to identify \n",
    "# the Country represented by each data point.\n",
    "df_energy_data_2020_scaled_predictions.hvplot.scatter(\n",
    "    x=\"Electricity from fossil fuels (TWh)\",\n",
    "    y=\"Electricity from renewables (TWh)\",\n",
    "    hover_cols=\"Entity\",\n",
    "    by=\"EnergyCluster\"\n",
    ")"
   ]
  },
  {
   "cell_type": "code",
   "execution_count": null,
   "metadata": {},
   "outputs": [],
   "source": [
    "# Create a scatter plot using hvPlot by setting \n",
    "# `x=\"\"` and `y=\"\"`. \n",
    "# Colour the graph points with the labels found using K-Means and \n",
    "# add the Country name in the `hover_cols` parameter to identify \n",
    "# the Country represented by each data point.\n",
    "df_energy_data_2020_scaled_predictions.hvplot.scatter(\n",
    "    x=\"Electricity from nuclear (TWh)\",\n",
    "    y=\"Electricity from renewables (TWh)\",\n",
    "    hover_cols=\"Entity\",\n",
    "    by=\"EnergyCluster\"\n",
    ")"
   ]
  },
  {
   "attachments": {},
   "cell_type": "markdown",
   "metadata": {},
   "source": [
    "---"
   ]
  },
  {
   "cell_type": "code",
   "execution_count": null,
   "metadata": {},
   "outputs": [],
   "source": [
    "# Composite plot to contrast the clusters\n",
    "df_energy_data_2000_scaled_predictions.hvplot.scatter(\n",
    "    x=\"Electricity from fossil fuels (TWh)\",\n",
    "    y=\"Electricity from renewables (TWh)\",\n",
    "    hover_cols=\"Entity\",\n",
    "    by=\"EnergyCluster\",\n",
    "    title = \"Fossil Fuels - Renewables - Year 2000\"\n",
    ") + df_energy_data_2020_scaled_predictions.hvplot.scatter(\n",
    "    x=\"Electricity from fossil fuels (TWh)\",\n",
    "    y=\"Electricity from renewables (TWh)\",\n",
    "    hover_cols=\"Entity\",\n",
    "    by=\"EnergyCluster\",\n",
    "    title = \"Fossil Fuels - Renewables - Year 2020\"\n",
    ")"
   ]
  },
  {
   "cell_type": "code",
   "execution_count": null,
   "metadata": {},
   "outputs": [],
   "source": [
    "# Composite plot to contrast the clusters\n",
    "df_energy_data_2000_scaled_predictions.hvplot.scatter(\n",
    "    x=\"Electricity from nuclear (TWh)\",\n",
    "    y=\"Electricity from renewables (TWh)\",\n",
    "    hover_cols=\"Entity\",\n",
    "    by=\"EnergyCluster\",\n",
    "    title = \"Nuclear - Renewables - Year 2000\"\n",
    ") + df_energy_data_2020_scaled_predictions.hvplot.scatter(\n",
    "    x=\"Electricity from nuclear (TWh)\",\n",
    "    y=\"Electricity from renewables (TWh)\",\n",
    "    hover_cols=\"Entity\",\n",
    "    by=\"EnergyCluster\",\n",
    "    title = \"Nuclear - Renewables - Year 2020\"\n",
    ")"
   ]
  }
 ],
 "metadata": {
  "kernelspec": {
   "display_name": "Python 3 (ipykernel)",
   "language": "python",
   "name": "python3"
  },
  "language_info": {
   "codemirror_mode": {
    "name": "ipython",
    "version": 3
   },
   "file_extension": ".py",
   "mimetype": "text/x-python",
   "name": "python",
   "nbconvert_exporter": "python",
   "pygments_lexer": "ipython3",
   "version": "3.10.10"
  },
  "nteract": {
   "version": "0.28.0"
  },
  "vscode": {
   "interpreter": {
    "hash": "40d3a090f54c6569ab1632332b64b2c03c39dcf918b08424e98f38b5ae0af88f"
   }
  }
 },
 "nbformat": 4,
 "nbformat_minor": 4
}
